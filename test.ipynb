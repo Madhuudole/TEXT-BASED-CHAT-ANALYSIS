{
 "cells": [
  {
   "cell_type": "code",
   "execution_count": 21,
   "metadata": {},
   "outputs": [
    {
     "name": "stdout",
     "output_type": "stream",
     "text": [
      "        Date start_sentiment end_sentiment most_common_sentiment\n",
      "0 2024-06-01        positive      positive              positive\n",
      "1 2024-06-02        negative      positive              positive\n"
     ]
    }
   ],
   "source": [
    "import pandas as pd\n",
    "from collections import Counter\n",
    "\n",
    "# Sample data\n",
    "data = {\n",
    "    'Date': ['2024-06-01', '2024-06-01', '2024-06-01', '2024-06-02', '2024-06-02', '2024-06-02'],\n",
    "    'Sentiment': ['positive', 'negative', 'positive', 'negative', 'positive', 'positive'],\n",
    "}\n",
    "df = pd.DataFrame(data)\n",
    "\n",
    "# Convert 'Date' column to datetime format\n",
    "df['Date'] = pd.to_datetime(df['Date'])\n",
    "\n",
    "# Group by 'Date' column\n",
    "grouped = df.groupby('Date')\n",
    "\n",
    "# Function to get the most common sentiment\n",
    "def most_common_sentiment(series):\n",
    "    return Counter(series).most_common(1)[0][0]\n",
    "\n",
    "# Create a new DataFrame with the required columns\n",
    "result_df = grouped.agg(\n",
    "    start_sentiment=('Sentiment', 'first'),\n",
    "    end_sentiment=('Sentiment', 'last'),\n",
    "    most_common_sentiment=('Sentiment', most_common_sentiment)\n",
    ").reset_index()\n",
    "\n",
    "# Print the result DataFrame\n",
    "print(result_df)\n"
   ]
  },
  {
   "cell_type": "code",
   "execution_count": null,
   "metadata": {},
   "outputs": [
    {
     "name": "stdout",
     "output_type": "stream",
     "text": [
      "Date: 2024-06-01 00:00:00\n",
      "0    positive\n",
      "1    negative\n",
      "Name: Sentiment, dtype: object\n",
      "\n",
      "Date: 2024-06-02 00:00:00\n",
      "2    negative\n",
      "3    positive\n",
      "4    positive\n",
      "Name: Sentiment, dtype: object\n",
      "\n"
     ]
    }
   ],
   "source": [
    "import pandas as pd\n",
    "\n",
    "# Sample data\n",
    "data = {\n",
    "    'Date': ['2024-06-01', '2024-06-01', '2024-06-02', '2024-06-02', '2024-06-02'],\n",
    "    'Sentiment': ['positive', 'negative', 'negative', 'positive', 'positive']\n",
    "}\n",
    "df = pd.DataFrame(data)\n",
    "\n",
    "# Convert 'Date' column to datetime format\n",
    "df['Date'] = pd.to_datetime(df['Date'])\n",
    "\n",
    "# Group by date\n",
    "grouped = df.groupby('Date')\n",
    "\n",
    "# Print each group in the grouped DataFrame\n",
    "for name, group in grouped:\n",
    "    print(f\"Date: {name}\")\n",
    "    print(group['Sentiment'])\n",
    "    print()  # Add a blank line for readability"
   ]
  },
  {
   "cell_type": "markdown",
   "metadata": {},
   "source": []
  },
  {
   "cell_type": "code",
   "execution_count": null,
   "metadata": {},
   "outputs": [
    {
     "name": "stdout",
     "output_type": "stream",
     "text": [
      "Date: 2024-06-01 00:00:00\n",
      "        Date Sentiment\n",
      "0 2024-06-01  positive\n",
      "1 2024-06-01  negative\n",
      "\n",
      "Date: 2024-06-02 00:00:00\n",
      "        Date Sentiment\n",
      "2 2024-06-02  negative\n",
      "3 2024-06-02  positive\n",
      "4 2024-06-02  positive\n",
      "\n"
     ]
    }
   ],
   "source": [
    "import pandas as pd\n",
    "\n",
    "# Sample data\n",
    "data = {\n",
    "    'Date': ['2024-06-01', '2024-06-01', '2024-06-02', '2024-06-02', '2024-06-02'],\n",
    "    'Sentiment': ['positive', 'negative', 'negative', 'positive', 'positive']\n",
    "}\n",
    "df = pd.DataFrame(data)\n",
    "\n",
    "# Convert 'Date' column to datetime format\n",
    "df['Date'] = pd.to_datetime(df['Date'])\n",
    "\n",
    "# Group by date\n",
    "grouped = df.groupby('Date')\n",
    "\n",
    "# Print each group in the grouped DataFrame\n",
    "for name, group in grouped:\n",
    "    print(f\"Date: {name}\")\n",
    "    print(group)\n",
    "    print()  # Add a blank line for readability\n",
    "\n",
    "\n"
   ]
  },
  {
   "cell_type": "code",
   "execution_count": null,
   "metadata": {},
   "outputs": [],
   "source": []
  }
 ],
 "metadata": {
  "kernelspec": {
   "display_name": "Python 3",
   "language": "python",
   "name": "python3"
  },
  "language_info": {
   "codemirror_mode": {
    "name": "ipython",
    "version": 3
   },
   "file_extension": ".py",
   "mimetype": "text/x-python",
   "name": "python",
   "nbconvert_exporter": "python",
   "pygments_lexer": "ipython3",
   "version": "3.12.2"
  }
 },
 "nbformat": 4,
 "nbformat_minor": 2
}
